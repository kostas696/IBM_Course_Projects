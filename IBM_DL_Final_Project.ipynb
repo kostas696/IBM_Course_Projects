{
  "nbformat": 4,
  "nbformat_minor": 0,
  "metadata": {
    "colab": {
      "provenance": [],
      "authorship_tag": "ABX9TyN+VV0DanGNvUjd7GCIWP5o",
      "include_colab_link": true
    },
    "kernelspec": {
      "name": "python3",
      "display_name": "Python 3"
    },
    "language_info": {
      "name": "python"
    },
    "accelerator": "GPU",
    "gpuClass": "premium"
  },
  "cells": [
    {
      "cell_type": "markdown",
      "metadata": {
        "id": "view-in-github",
        "colab_type": "text"
      },
      "source": [
        "<a href=\"https://colab.research.google.com/github/kostas696/IBM_Course_Projects/blob/main/IBM_DL_Final_Project.ipynb\" target=\"_parent\"><img src=\"https://colab.research.google.com/assets/colab-badge.svg\" alt=\"Open In Colab\"/></a>"
      ]
    },
    {
      "cell_type": "markdown",
      "source": [
        "# IBM Deep Learning and Reinforcement Learning - Final Project"
      ],
      "metadata": {
        "id": "1bO-lWNoEjTd"
      }
    },
    {
      "cell_type": "markdown",
      "source": [
        "# Context"
      ],
      "metadata": {
        "id": "yDYeSzM3EOUB"
      }
    },
    {
      "cell_type": "markdown",
      "source": [
        "1.Introduction\n",
        "\n",
        "2.Dataset Description\n",
        "\n",
        "3.Data Exploration and Preparation\n",
        "\n",
        "4.Deep Learning Model Development\n",
        "\n",
        "5.Model Evaluation\n",
        "\n",
        "6.Key Findings and Insights\n",
        "\n",
        "7.Conclusion and Next Steps"
      ],
      "metadata": {
        "id": "EsgMds7nDkYt"
      }
    },
    {
      "cell_type": "markdown",
      "source": [
        "\n",
        "\n",
        "## 1. Introduction"
      ],
      "metadata": {
        "id": "n5-21o_SDcKe"
      }
    },
    {
      "cell_type": "markdown",
      "source": [
        "The **goal** of this project is to develop a deep learning model for sentiment analysis on the IMDB dataset of 50k movie reviews.\n",
        "\n",
        "Sentiment analysis involves identifying the emotional tone of a text, and is a popular application of natural language processing and machine learning. The ability to automatically classify texts as positive, negative or neutral can have many practical applications in areas such as marketing, customer service, and political analysis.\n",
        "\n",
        "In this project, we will use a convolutional neural network (CNN) in three variations to model the temporal dependencies and local features in the input data. We will explore the dataset, preprocess the data, train and evaluate multiple deep learning models, and interpret the results. \n",
        "\n",
        "The **main objective** of this analysis is to achieve high accuracy in sentiment classification and provide insights into the features that are most predictive of sentiment.\n",
        "\n",
        "In this assignment we used for the first time Google Colab platform for our notebook, and we were left with very positive impressions."
      ],
      "metadata": {
        "id": "L5AVb2BcFlxl"
      }
    },
    {
      "cell_type": "markdown",
      "source": [
        "## 2. Dataset Description"
      ],
      "metadata": {
        "id": "6AYUjE84FZnM"
      }
    },
    {
      "cell_type": "markdown",
      "source": [
        "About Dataset\n",
        "\n",
        "IMDB dataset having 50K movie reviews for natural language processing or Text analytics.\n",
        "\n",
        "This is a dataset for binary sentiment classification containing substantially more data than previous benchmark datasets. We provide a set of 25,000 highly polar movie reviews for training and 25,000 for testing. \n",
        "\n",
        "The dataset is balanced in terms of positive and negative reviews, and contains a mix of short and long reviews. The dataset also includes the text of the review, as well as the binary sentiment label (0 for negative and 1 for positive).\n",
        "\n",
        "For more dataset information, please go through the following link,\n",
        "http://ai.stanford.edu/~amaas/data/sentiment/"
      ],
      "metadata": {
        "id": "WF0gMw2eUP5K"
      }
    },
    {
      "cell_type": "markdown",
      "source": [
        "## 3. Data Exploration and Preparation"
      ],
      "metadata": {
        "id": "DhFTFNqLI7wS"
      }
    },
    {
      "cell_type": "markdown",
      "source": [
        "### Import Libraries\n",
        "\n",
        "\n",
        "\n",
        "\n",
        "\n"
      ],
      "metadata": {
        "id": "9PmvhzYvJkCF"
      }
    },
    {
      "cell_type": "code",
      "source": [
        "import pandas as pd\n",
        "import numpy as np\n",
        "import matplotlib.pyplot as plt\n",
        "import seaborn as sns\n",
        "!pip install nltk\n",
        "!python -m nltk.downloader omw\n",
        "import nltk\n",
        "nltk.download('stopwords')\n",
        "nltk.download('wordnet')\n",
        "nltk.download('omw')\n",
        "nltk.download('omw-1.4')\n",
        "import re\n",
        "from nltk.corpus import stopwords\n",
        "from nltk.stem import WordNetLemmatizer\n",
        "from tensorflow.keras.layers import Dense, Dropout, Embedding, LSTM, Conv1D, MaxPooling1D\n",
        "from tensorflow.keras.models import Sequential\n",
        "from keras.preprocessing.text import Tokenizer\n",
        "from keras.layers import Flatten\n",
        "from tensorflow.keras.preprocessing.sequence import pad_sequences\n",
        "from sklearn.model_selection import train_test_split\n",
        "from keras.layers import Bidirectional\n",
        "from sklearn.metrics import classification_report"
      ],
      "metadata": {
        "colab": {
          "base_uri": "https://localhost:8080/"
        },
        "id": "u4BP1oI_J50X",
        "outputId": "0ca9ca3b-f982-4b80-fc26-0bb4011f651b"
      },
      "execution_count": 1,
      "outputs": [
        {
          "output_type": "stream",
          "name": "stdout",
          "text": [
            "Looking in indexes: https://pypi.org/simple, https://us-python.pkg.dev/colab-wheels/public/simple/\n",
            "Requirement already satisfied: nltk in /usr/local/lib/python3.9/dist-packages (3.8.1)\n",
            "Requirement already satisfied: click in /usr/local/lib/python3.9/dist-packages (from nltk) (8.1.3)\n",
            "Requirement already satisfied: tqdm in /usr/local/lib/python3.9/dist-packages (from nltk) (4.65.0)\n",
            "Requirement already satisfied: joblib in /usr/local/lib/python3.9/dist-packages (from nltk) (1.1.1)\n",
            "Requirement already satisfied: regex>=2021.8.3 in /usr/local/lib/python3.9/dist-packages (from nltk) (2022.10.31)\n",
            "/usr/lib/python3.9/runpy.py:127: RuntimeWarning: 'nltk.downloader' found in sys.modules after import of package 'nltk', but prior to execution of 'nltk.downloader'; this may result in unpredictable behaviour\n",
            "  warn(RuntimeWarning(msg))\n",
            "[nltk_data] Downloading package omw to /root/nltk_data...\n"
          ]
        },
        {
          "output_type": "stream",
          "name": "stderr",
          "text": [
            "[nltk_data] Downloading package stopwords to /root/nltk_data...\n",
            "[nltk_data]   Unzipping corpora/stopwords.zip.\n",
            "[nltk_data] Downloading package wordnet to /root/nltk_data...\n",
            "[nltk_data] Downloading package omw to /root/nltk_data...\n",
            "[nltk_data]   Package omw is already up-to-date!\n",
            "[nltk_data] Downloading package omw-1.4 to /root/nltk_data...\n"
          ]
        }
      ]
    },
    {
      "cell_type": "markdown",
      "source": [
        "### Load Dataset"
      ],
      "metadata": {
        "id": "7CDlA6YtM-eV"
      }
    },
    {
      "cell_type": "code",
      "source": [
        "from google.colab import files\n",
        "uploaded = files.upload()"
      ],
      "metadata": {
        "colab": {
          "base_uri": "https://localhost:8080/",
          "height": 73
        },
        "id": "OdIrRPeyKSdF",
        "outputId": "b5db4176-7b86-4d4f-db5c-7c8c51120564"
      },
      "execution_count": 2,
      "outputs": [
        {
          "output_type": "display_data",
          "data": {
            "text/plain": [
              "<IPython.core.display.HTML object>"
            ],
            "text/html": [
              "\n",
              "     <input type=\"file\" id=\"files-86b54d71-f1ba-493e-ae88-43fea2428dca\" name=\"files[]\" multiple disabled\n",
              "        style=\"border:none\" />\n",
              "     <output id=\"result-86b54d71-f1ba-493e-ae88-43fea2428dca\">\n",
              "      Upload widget is only available when the cell has been executed in the\n",
              "      current browser session. Please rerun this cell to enable.\n",
              "      </output>\n",
              "      <script>// Copyright 2017 Google LLC\n",
              "//\n",
              "// Licensed under the Apache License, Version 2.0 (the \"License\");\n",
              "// you may not use this file except in compliance with the License.\n",
              "// You may obtain a copy of the License at\n",
              "//\n",
              "//      http://www.apache.org/licenses/LICENSE-2.0\n",
              "//\n",
              "// Unless required by applicable law or agreed to in writing, software\n",
              "// distributed under the License is distributed on an \"AS IS\" BASIS,\n",
              "// WITHOUT WARRANTIES OR CONDITIONS OF ANY KIND, either express or implied.\n",
              "// See the License for the specific language governing permissions and\n",
              "// limitations under the License.\n",
              "\n",
              "/**\n",
              " * @fileoverview Helpers for google.colab Python module.\n",
              " */\n",
              "(function(scope) {\n",
              "function span(text, styleAttributes = {}) {\n",
              "  const element = document.createElement('span');\n",
              "  element.textContent = text;\n",
              "  for (const key of Object.keys(styleAttributes)) {\n",
              "    element.style[key] = styleAttributes[key];\n",
              "  }\n",
              "  return element;\n",
              "}\n",
              "\n",
              "// Max number of bytes which will be uploaded at a time.\n",
              "const MAX_PAYLOAD_SIZE = 100 * 1024;\n",
              "\n",
              "function _uploadFiles(inputId, outputId) {\n",
              "  const steps = uploadFilesStep(inputId, outputId);\n",
              "  const outputElement = document.getElementById(outputId);\n",
              "  // Cache steps on the outputElement to make it available for the next call\n",
              "  // to uploadFilesContinue from Python.\n",
              "  outputElement.steps = steps;\n",
              "\n",
              "  return _uploadFilesContinue(outputId);\n",
              "}\n",
              "\n",
              "// This is roughly an async generator (not supported in the browser yet),\n",
              "// where there are multiple asynchronous steps and the Python side is going\n",
              "// to poll for completion of each step.\n",
              "// This uses a Promise to block the python side on completion of each step,\n",
              "// then passes the result of the previous step as the input to the next step.\n",
              "function _uploadFilesContinue(outputId) {\n",
              "  const outputElement = document.getElementById(outputId);\n",
              "  const steps = outputElement.steps;\n",
              "\n",
              "  const next = steps.next(outputElement.lastPromiseValue);\n",
              "  return Promise.resolve(next.value.promise).then((value) => {\n",
              "    // Cache the last promise value to make it available to the next\n",
              "    // step of the generator.\n",
              "    outputElement.lastPromiseValue = value;\n",
              "    return next.value.response;\n",
              "  });\n",
              "}\n",
              "\n",
              "/**\n",
              " * Generator function which is called between each async step of the upload\n",
              " * process.\n",
              " * @param {string} inputId Element ID of the input file picker element.\n",
              " * @param {string} outputId Element ID of the output display.\n",
              " * @return {!Iterable<!Object>} Iterable of next steps.\n",
              " */\n",
              "function* uploadFilesStep(inputId, outputId) {\n",
              "  const inputElement = document.getElementById(inputId);\n",
              "  inputElement.disabled = false;\n",
              "\n",
              "  const outputElement = document.getElementById(outputId);\n",
              "  outputElement.innerHTML = '';\n",
              "\n",
              "  const pickedPromise = new Promise((resolve) => {\n",
              "    inputElement.addEventListener('change', (e) => {\n",
              "      resolve(e.target.files);\n",
              "    });\n",
              "  });\n",
              "\n",
              "  const cancel = document.createElement('button');\n",
              "  inputElement.parentElement.appendChild(cancel);\n",
              "  cancel.textContent = 'Cancel upload';\n",
              "  const cancelPromise = new Promise((resolve) => {\n",
              "    cancel.onclick = () => {\n",
              "      resolve(null);\n",
              "    };\n",
              "  });\n",
              "\n",
              "  // Wait for the user to pick the files.\n",
              "  const files = yield {\n",
              "    promise: Promise.race([pickedPromise, cancelPromise]),\n",
              "    response: {\n",
              "      action: 'starting',\n",
              "    }\n",
              "  };\n",
              "\n",
              "  cancel.remove();\n",
              "\n",
              "  // Disable the input element since further picks are not allowed.\n",
              "  inputElement.disabled = true;\n",
              "\n",
              "  if (!files) {\n",
              "    return {\n",
              "      response: {\n",
              "        action: 'complete',\n",
              "      }\n",
              "    };\n",
              "  }\n",
              "\n",
              "  for (const file of files) {\n",
              "    const li = document.createElement('li');\n",
              "    li.append(span(file.name, {fontWeight: 'bold'}));\n",
              "    li.append(span(\n",
              "        `(${file.type || 'n/a'}) - ${file.size} bytes, ` +\n",
              "        `last modified: ${\n",
              "            file.lastModifiedDate ? file.lastModifiedDate.toLocaleDateString() :\n",
              "                                    'n/a'} - `));\n",
              "    const percent = span('0% done');\n",
              "    li.appendChild(percent);\n",
              "\n",
              "    outputElement.appendChild(li);\n",
              "\n",
              "    const fileDataPromise = new Promise((resolve) => {\n",
              "      const reader = new FileReader();\n",
              "      reader.onload = (e) => {\n",
              "        resolve(e.target.result);\n",
              "      };\n",
              "      reader.readAsArrayBuffer(file);\n",
              "    });\n",
              "    // Wait for the data to be ready.\n",
              "    let fileData = yield {\n",
              "      promise: fileDataPromise,\n",
              "      response: {\n",
              "        action: 'continue',\n",
              "      }\n",
              "    };\n",
              "\n",
              "    // Use a chunked sending to avoid message size limits. See b/62115660.\n",
              "    let position = 0;\n",
              "    do {\n",
              "      const length = Math.min(fileData.byteLength - position, MAX_PAYLOAD_SIZE);\n",
              "      const chunk = new Uint8Array(fileData, position, length);\n",
              "      position += length;\n",
              "\n",
              "      const base64 = btoa(String.fromCharCode.apply(null, chunk));\n",
              "      yield {\n",
              "        response: {\n",
              "          action: 'append',\n",
              "          file: file.name,\n",
              "          data: base64,\n",
              "        },\n",
              "      };\n",
              "\n",
              "      let percentDone = fileData.byteLength === 0 ?\n",
              "          100 :\n",
              "          Math.round((position / fileData.byteLength) * 100);\n",
              "      percent.textContent = `${percentDone}% done`;\n",
              "\n",
              "    } while (position < fileData.byteLength);\n",
              "  }\n",
              "\n",
              "  // All done.\n",
              "  yield {\n",
              "    response: {\n",
              "      action: 'complete',\n",
              "    }\n",
              "  };\n",
              "}\n",
              "\n",
              "scope.google = scope.google || {};\n",
              "scope.google.colab = scope.google.colab || {};\n",
              "scope.google.colab._files = {\n",
              "  _uploadFiles,\n",
              "  _uploadFilesContinue,\n",
              "};\n",
              "})(self);\n",
              "</script> "
            ]
          },
          "metadata": {}
        },
        {
          "output_type": "stream",
          "name": "stdout",
          "text": [
            "Saving IMDB Dataset.csv to IMDB Dataset.csv\n"
          ]
        }
      ]
    },
    {
      "cell_type": "code",
      "source": [
        "import io\n",
        "df = pd.read_csv(io.BytesIO(uploaded['IMDB Dataset.csv']))"
      ],
      "metadata": {
        "id": "HnCoJ6VKKSMN"
      },
      "execution_count": 3,
      "outputs": []
    },
    {
      "cell_type": "code",
      "source": [
        "# Inspect the Dataframe\n",
        "df.head()\n"
      ],
      "metadata": {
        "colab": {
          "base_uri": "https://localhost:8080/",
          "height": 206
        },
        "id": "KozKlBgfNoEd",
        "outputId": "41a73162-2d65-4579-c116-3c01016dac7c"
      },
      "execution_count": 4,
      "outputs": [
        {
          "output_type": "execute_result",
          "data": {
            "text/plain": [
              "                                              review sentiment\n",
              "0  One of the other reviewers has mentioned that ...  positive\n",
              "1  A wonderful little production. <br /><br />The...  positive\n",
              "2  I thought this was a wonderful way to spend ti...  positive\n",
              "3  Basically there's a family where a little boy ...  negative\n",
              "4  Petter Mattei's \"Love in the Time of Money\" is...  positive"
            ],
            "text/html": [
              "\n",
              "  <div id=\"df-afdf6e73-15ad-4a3c-b38a-11da62645938\">\n",
              "    <div class=\"colab-df-container\">\n",
              "      <div>\n",
              "<style scoped>\n",
              "    .dataframe tbody tr th:only-of-type {\n",
              "        vertical-align: middle;\n",
              "    }\n",
              "\n",
              "    .dataframe tbody tr th {\n",
              "        vertical-align: top;\n",
              "    }\n",
              "\n",
              "    .dataframe thead th {\n",
              "        text-align: right;\n",
              "    }\n",
              "</style>\n",
              "<table border=\"1\" class=\"dataframe\">\n",
              "  <thead>\n",
              "    <tr style=\"text-align: right;\">\n",
              "      <th></th>\n",
              "      <th>review</th>\n",
              "      <th>sentiment</th>\n",
              "    </tr>\n",
              "  </thead>\n",
              "  <tbody>\n",
              "    <tr>\n",
              "      <th>0</th>\n",
              "      <td>One of the other reviewers has mentioned that ...</td>\n",
              "      <td>positive</td>\n",
              "    </tr>\n",
              "    <tr>\n",
              "      <th>1</th>\n",
              "      <td>A wonderful little production. &lt;br /&gt;&lt;br /&gt;The...</td>\n",
              "      <td>positive</td>\n",
              "    </tr>\n",
              "    <tr>\n",
              "      <th>2</th>\n",
              "      <td>I thought this was a wonderful way to spend ti...</td>\n",
              "      <td>positive</td>\n",
              "    </tr>\n",
              "    <tr>\n",
              "      <th>3</th>\n",
              "      <td>Basically there's a family where a little boy ...</td>\n",
              "      <td>negative</td>\n",
              "    </tr>\n",
              "    <tr>\n",
              "      <th>4</th>\n",
              "      <td>Petter Mattei's \"Love in the Time of Money\" is...</td>\n",
              "      <td>positive</td>\n",
              "    </tr>\n",
              "  </tbody>\n",
              "</table>\n",
              "</div>\n",
              "      <button class=\"colab-df-convert\" onclick=\"convertToInteractive('df-afdf6e73-15ad-4a3c-b38a-11da62645938')\"\n",
              "              title=\"Convert this dataframe to an interactive table.\"\n",
              "              style=\"display:none;\">\n",
              "        \n",
              "  <svg xmlns=\"http://www.w3.org/2000/svg\" height=\"24px\"viewBox=\"0 0 24 24\"\n",
              "       width=\"24px\">\n",
              "    <path d=\"M0 0h24v24H0V0z\" fill=\"none\"/>\n",
              "    <path d=\"M18.56 5.44l.94 2.06.94-2.06 2.06-.94-2.06-.94-.94-2.06-.94 2.06-2.06.94zm-11 1L8.5 8.5l.94-2.06 2.06-.94-2.06-.94L8.5 2.5l-.94 2.06-2.06.94zm10 10l.94 2.06.94-2.06 2.06-.94-2.06-.94-.94-2.06-.94 2.06-2.06.94z\"/><path d=\"M17.41 7.96l-1.37-1.37c-.4-.4-.92-.59-1.43-.59-.52 0-1.04.2-1.43.59L10.3 9.45l-7.72 7.72c-.78.78-.78 2.05 0 2.83L4 21.41c.39.39.9.59 1.41.59.51 0 1.02-.2 1.41-.59l7.78-7.78 2.81-2.81c.8-.78.8-2.07 0-2.86zM5.41 20L4 18.59l7.72-7.72 1.47 1.35L5.41 20z\"/>\n",
              "  </svg>\n",
              "      </button>\n",
              "      \n",
              "  <style>\n",
              "    .colab-df-container {\n",
              "      display:flex;\n",
              "      flex-wrap:wrap;\n",
              "      gap: 12px;\n",
              "    }\n",
              "\n",
              "    .colab-df-convert {\n",
              "      background-color: #E8F0FE;\n",
              "      border: none;\n",
              "      border-radius: 50%;\n",
              "      cursor: pointer;\n",
              "      display: none;\n",
              "      fill: #1967D2;\n",
              "      height: 32px;\n",
              "      padding: 0 0 0 0;\n",
              "      width: 32px;\n",
              "    }\n",
              "\n",
              "    .colab-df-convert:hover {\n",
              "      background-color: #E2EBFA;\n",
              "      box-shadow: 0px 1px 2px rgba(60, 64, 67, 0.3), 0px 1px 3px 1px rgba(60, 64, 67, 0.15);\n",
              "      fill: #174EA6;\n",
              "    }\n",
              "\n",
              "    [theme=dark] .colab-df-convert {\n",
              "      background-color: #3B4455;\n",
              "      fill: #D2E3FC;\n",
              "    }\n",
              "\n",
              "    [theme=dark] .colab-df-convert:hover {\n",
              "      background-color: #434B5C;\n",
              "      box-shadow: 0px 1px 3px 1px rgba(0, 0, 0, 0.15);\n",
              "      filter: drop-shadow(0px 1px 2px rgba(0, 0, 0, 0.3));\n",
              "      fill: #FFFFFF;\n",
              "    }\n",
              "  </style>\n",
              "\n",
              "      <script>\n",
              "        const buttonEl =\n",
              "          document.querySelector('#df-afdf6e73-15ad-4a3c-b38a-11da62645938 button.colab-df-convert');\n",
              "        buttonEl.style.display =\n",
              "          google.colab.kernel.accessAllowed ? 'block' : 'none';\n",
              "\n",
              "        async function convertToInteractive(key) {\n",
              "          const element = document.querySelector('#df-afdf6e73-15ad-4a3c-b38a-11da62645938');\n",
              "          const dataTable =\n",
              "            await google.colab.kernel.invokeFunction('convertToInteractive',\n",
              "                                                     [key], {});\n",
              "          if (!dataTable) return;\n",
              "\n",
              "          const docLinkHtml = 'Like what you see? Visit the ' +\n",
              "            '<a target=\"_blank\" href=https://colab.research.google.com/notebooks/data_table.ipynb>data table notebook</a>'\n",
              "            + ' to learn more about interactive tables.';\n",
              "          element.innerHTML = '';\n",
              "          dataTable['output_type'] = 'display_data';\n",
              "          await google.colab.output.renderOutput(dataTable, element);\n",
              "          const docLink = document.createElement('div');\n",
              "          docLink.innerHTML = docLinkHtml;\n",
              "          element.appendChild(docLink);\n",
              "        }\n",
              "      </script>\n",
              "    </div>\n",
              "  </div>\n",
              "  "
            ]
          },
          "metadata": {},
          "execution_count": 4
        }
      ]
    },
    {
      "cell_type": "code",
      "source": [
        "# Check the size of the dataset\n",
        "print(\"Number of reviews:\", len(df))"
      ],
      "metadata": {
        "colab": {
          "base_uri": "https://localhost:8080/"
        },
        "id": "RglwQ3a_KRv1",
        "outputId": "8defa4da-3c2f-4853-fa21-ae14606878f6"
      },
      "execution_count": 5,
      "outputs": [
        {
          "output_type": "stream",
          "name": "stdout",
          "text": [
            "Number of reviews: 50000\n"
          ]
        }
      ]
    },
    {
      "cell_type": "code",
      "source": [
        "# Check the distribution of labels\n",
        "sns.countplot(x='sentiment', data=df)\n"
      ],
      "metadata": {
        "colab": {
          "base_uri": "https://localhost:8080/",
          "height": 296
        },
        "id": "dU5QTFJDRwFF",
        "outputId": "65e273b0-b067-4b83-b5b8-39f97af2367f"
      },
      "execution_count": 6,
      "outputs": [
        {
          "output_type": "execute_result",
          "data": {
            "text/plain": [
              "<Axes: xlabel='sentiment', ylabel='count'>"
            ]
          },
          "metadata": {},
          "execution_count": 6
        },
        {
          "output_type": "display_data",
          "data": {
            "text/plain": [
              "<Figure size 432x288 with 1 Axes>"
            ],
            "image/png": "[encoded data removed]"
          },
          "metadata": {
            "needs_background": "light"
          }
        }
      ]
    },
    {
      "cell_type": "code",
      "source": [
        "# Clean the text data by removing stopwords, punctuation, and other non-essential information\n",
        "lemmatizer = WordNetLemmatizer()\n",
        "stop_words = set(stopwords.words('english'))\n",
        "\n",
        "def clean_text(text):\n",
        "    text = re.sub(r'<.*?>', '', text)  # Remove HTML tags\n",
        "    text = re.sub(r'[^\\w\\s]', '', text)  # Remove punctuation\n",
        "    text = text.lower()  # Convert to lowercase\n",
        "    words = text.split()  # Split into words\n",
        "    words = [w for w in words if w not in stop_words]  # Remove stopwords\n",
        "    words = [lemmatizer.lemmatize(w) for w in words]  # Lemmatize words\n",
        "    return ' '.join(words)\n",
        "\n",
        "df['clean_text'] = df['review'].apply(clean_text)\n"
      ],
      "metadata": {
        "id": "uWGG-sF-R641"
      },
      "execution_count": 7,
      "outputs": []
    },
    {
      "cell_type": "code",
      "source": [
        "# Check the new column in the dataframe\n",
        "df['clean_text'] = df['review'].apply(clean_text)\n",
        "print(df.head())\n"
      ],
      "metadata": {
        "colab": {
          "base_uri": "https://localhost:8080/"
        },
        "id": "GIDNf6_32WZz",
        "outputId": "20146a9d-f67c-4016-8b3e-989c7217566f"
      },
      "execution_count": 8,
      "outputs": [
        {
          "output_type": "stream",
          "name": "stdout",
          "text": [
            "                                              review sentiment  \\\n",
            "0  One of the other reviewers has mentioned that ...  positive   \n",
            "1  A wonderful little production. <br /><br />The...  positive   \n",
            "2  I thought this was a wonderful way to spend ti...  positive   \n",
            "3  Basically there's a family where a little boy ...  negative   \n",
            "4  Petter Mattei's \"Love in the Time of Money\" is...  positive   \n",
            "\n",
            "                                          clean_text  \n",
            "0  one reviewer mentioned watching 1 oz episode y...  \n",
            "1  wonderful little production filming technique ...  \n",
            "2  thought wonderful way spend time hot summer we...  \n",
            "3  basically there family little boy jake think t...  \n",
            "4  petter matteis love time money visually stunni...  \n"
          ]
        }
      ]
    },
    {
      "cell_type": "markdown",
      "source": [
        "Here, num_words gives us the a hyperparameter that specifies the maximum number of words to be used in the vocabulary. We specify this number and it is commonly used to reduce the dimensionality of the text data and speed up the training process."
      ],
      "metadata": {
        "id": "X_IA_y1M4_cY"
      }
    },
    {
      "cell_type": "code",
      "source": [
        "# Tokenize the text\n",
        "tokenizer = Tokenizer(num_words=5000)\n",
        "tokenizer.fit_on_texts(df['clean_text'])"
      ],
      "metadata": {
        "id": "p7OrdSj43e_R"
      },
      "execution_count": 9,
      "outputs": []
    },
    {
      "cell_type": "code",
      "source": [
        "# Convert text to sequences of integers\n",
        "X = tokenizer.texts_to_sequences(df['clean_text'])"
      ],
      "metadata": {
        "id": "lZtzZH_35MgY"
      },
      "execution_count": 10,
      "outputs": []
    },
    {
      "cell_type": "code",
      "source": [
        "# Convert labels to integers\n",
        "label_map = {'positive': 1, 'negative': 0}\n",
        "y = df['sentiment'].map(label_map)"
      ],
      "metadata": {
        "id": "o_xORlzt7-rj"
      },
      "execution_count": 11,
      "outputs": []
    },
    {
      "cell_type": "markdown",
      "source": [
        "This will split the dataset into 80% training data and 20% testing data."
      ],
      "metadata": {
        "id": "GnBGHh1SkikS"
      }
    },
    {
      "cell_type": "code",
      "source": [
        "# Split the dataset into training and testing sets\n",
        "X_train, X_test, y_train, y_test = train_test_split(X, y, test_size=0.2, random_state=42)\n"
      ],
      "metadata": {
        "id": "VlnXv-q-j6gr"
      },
      "execution_count": 12,
      "outputs": []
    },
    {
      "cell_type": "markdown",
      "source": [
        "In the next step, we set the maximum length of the reviews when they are padded to be fed into a machine learning model."
      ],
      "metadata": {
        "id": "YV7NmYfk7h8Y"
      }
    },
    {
      "cell_type": "code",
      "source": [
        "# Calculate the maximum length of a review in the training set\n",
        "max_length = max(len(review) for review in X_train)"
      ],
      "metadata": {
        "id": "b_lizQcK5xkJ"
      },
      "execution_count": 13,
      "outputs": []
    },
    {
      "cell_type": "code",
      "source": [
        "# Pad sequences so they're all the same length\n",
        "X_train = pad_sequences(X_train, maxlen=max_length)\n",
        "X_test = pad_sequences(X_test, maxlen=max_length)"
      ],
      "metadata": {
        "id": "0HumK4nC5MRa"
      },
      "execution_count": 14,
      "outputs": []
    },
    {
      "cell_type": "markdown",
      "source": [
        "## 4. Deep Learning Model Development"
      ],
      "metadata": {
        "id": "1-UhfnsNkVLb"
      }
    },
    {
      "cell_type": "markdown",
      "source": [
        "The Deep Learning Model Development in this project, involved building a sentiment analysis model using a Convolutional Neural Network (CNN). The CNN model takes in preprocessed text data and learns to classify it as either positive or negative sentiment.\n",
        "\n",
        "The model consists of an embedding layer that converts the text data into a dense vector representation, followed by a series of convolutional and pooling layers that learn to recognize features in the text data. Finally, the output from the convolutional layers is flattened and passed through a dense layer with a sigmoid activation function that outputs the final sentiment classification.\n",
        "\n",
        "In addition to the CNN model, we also explored two variations of the model: one with additional dense layers, and one with a Bidirectional LSTM layer instead of the convolutional layers. The purpose of exploring these variations was to see if they could improve the accuracy of the model. \n",
        "\n",
        "\n",
        "*  **Model 1** has an embedding layer with 32 output dimensions, followed by a flatten layer and a dense layer with sigmoid activation.\n",
        "\n",
        "*   **Model 2** has an embedding layer with 64 output dimensions, followed by a flatten layer and a dense layer with sigmoid activation.\n",
        "\n",
        "*   **Model 3** has an embedding layer with 32 output dimensions, followed by a bidirectional LSTM layer with 64 units, and a dense layer with sigmoid activation.\n",
        "\n"
      ],
      "metadata": {
        "id": "KeVWkYrrkd4U"
      }
    },
    {
      "cell_type": "code",
      "source": [
        "# Model 1: Embedding layer with 32 output dimensions, followed by a Flatten layer and a Dense layer with sigmoid activation\n",
        "embed_dim = 32\n",
        "\n",
        "model1 = Sequential([\n",
        "    Embedding(input_dim=5000, output_dim=embed_dim, input_length=max_length),\n",
        "    Flatten(),\n",
        "    Dense(1, activation='sigmoid')\n",
        "])"
      ],
      "metadata": {
        "id": "3Xyho__PkUwi"
      },
      "execution_count": 15,
      "outputs": []
    },
    {
      "cell_type": "code",
      "source": [
        "# Model 2: Embedding layer with 64 output dimensions, followed by a Flatten layer and a Dense layer with sigmoid activation\n",
        "model2 = Sequential([\n",
        "    Embedding(input_dim=5000, output_dim=64, input_length=max_length),\n",
        "    Flatten(),\n",
        "    Dense(1, activation='sigmoid')\n",
        "])"
      ],
      "metadata": {
        "id": "Ey4f1kEnkUua"
      },
      "execution_count": 16,
      "outputs": []
    },
    {
      "cell_type": "code",
      "source": [
        "# Model 3: Embedding layer with 32 output dimensions, followed by a Bidirectional LSTM layer with 64 units, and a Dense layer with sigmoid activation\n",
        "model3 = Sequential([\n",
        "    Embedding(input_dim=5000, output_dim=32, input_length=max_length),\n",
        "    Bidirectional(LSTM(units=64)),\n",
        "    Dense(1, activation='sigmoid')\n",
        "])"
      ],
      "metadata": {
        "id": "EmRRpqEfPnm3"
      },
      "execution_count": 17,
      "outputs": []
    },
    {
      "cell_type": "markdown",
      "source": [
        "Here, we are using binary cross-entropy loss and the Adam optimizer, and training the model for 10 epochs with a batch size of 32. We are also using 20% of the training data for validation during training."
      ],
      "metadata": {
        "id": "n42eHj7OtIrh"
      }
    },
    {
      "cell_type": "code",
      "source": [
        "# Compile each model and train it on our preprocessed data\n",
        "for i, model in enumerate([model1, model2, model3], 1):\n",
        "    model.compile(loss='binary_crossentropy', optimizer='adam', metrics=['accuracy'])\n",
        "    print(f'Training model {i}...')\n",
        "    history = model.fit(X_train, y_train, epochs=10, batch_size=32, validation_split=0.2)\n",
        "    \n",
        "    # Evaluate the model on the test set\n",
        "    test_loss, test_acc = model.evaluate(X_test, y_test, batch_size=32)\n",
        "    print(f'Test accuracy for model {i}: {test_acc}')"
      ],
      "metadata": {
        "colab": {
          "base_uri": "https://localhost:8080/"
        },
        "id": "duElEfvhtNix",
        "outputId": "c4b3ed1d-6b7b-496f-d24a-c4d6f05169a5"
      },
      "execution_count": 18,
      "outputs": [
        {
          "output_type": "stream",
          "name": "stdout",
          "text": [
            "Training model 1...\n",
            "Epoch 1/10\n",
            "1000/1000 [==============================] - 75s 70ms/step - loss: 0.3800 - accuracy: 0.8278 - val_loss: 0.2859 - val_accuracy: 0.8794\n",
            "Epoch 2/10\n",
            "1000/1000 [==============================] - 17s 17ms/step - loss: 0.2178 - accuracy: 0.9140 - val_loss: 0.2909 - val_accuracy: 0.8809\n",
            "Epoch 3/10\n",
            "1000/1000 [==============================] - 13s 13ms/step - loss: 0.1534 - accuracy: 0.9456 - val_loss: 0.3048 - val_accuracy: 0.8773\n",
            "Epoch 4/10\n",
            "1000/1000 [==============================] - 7s 7ms/step - loss: 0.0918 - accuracy: 0.9759 - val_loss: 0.3319 - val_accuracy: 0.8765\n",
            "Epoch 5/10\n",
            "1000/1000 [==============================] - 7s 7ms/step - loss: 0.0473 - accuracy: 0.9922 - val_loss: 0.3719 - val_accuracy: 0.8711\n",
            "Epoch 6/10\n",
            "1000/1000 [==============================] - 5s 5ms/step - loss: 0.0228 - accuracy: 0.9979 - val_loss: 0.4114 - val_accuracy: 0.8737\n",
            "Epoch 7/10\n",
            "1000/1000 [==============================] - 6s 6ms/step - loss: 0.0110 - accuracy: 0.9993 - val_loss: 0.4535 - val_accuracy: 0.8731\n",
            "Epoch 8/10\n",
            "1000/1000 [==============================] - 5s 5ms/step - loss: 0.0054 - accuracy: 0.9999 - val_loss: 0.4973 - val_accuracy: 0.8714\n",
            "Epoch 9/10\n",
            "1000/1000 [==============================] - 4s 4ms/step - loss: 0.0028 - accuracy: 1.0000 - val_loss: 0.5379 - val_accuracy: 0.8725\n",
            "Epoch 10/10\n",
            "1000/1000 [==============================] - 4s 4ms/step - loss: 0.0015 - accuracy: 1.0000 - val_loss: 0.5765 - val_accuracy: 0.8709\n",
            "313/313 [==============================] - 1s 2ms/step - loss: 0.5421 - accuracy: 0.8740\n",
            "Test accuracy for model 1: 0.8740000128746033\n",
            "Training model 2...\n",
            "Epoch 1/10\n",
            "1000/1000 [==============================] - 70s 69ms/step - loss: 0.3646 - accuracy: 0.8328 - val_loss: 0.2821 - val_accuracy: 0.8835\n",
            "Epoch 2/10\n",
            "1000/1000 [==============================] - 18s 18ms/step - loss: 0.1994 - accuracy: 0.9231 - val_loss: 0.2923 - val_accuracy: 0.8794\n",
            "Epoch 3/10\n",
            "1000/1000 [==============================] - 10s 10ms/step - loss: 0.1022 - accuracy: 0.9706 - val_loss: 0.3201 - val_accuracy: 0.8786\n",
            "Epoch 4/10\n",
            "1000/1000 [==============================] - 7s 7ms/step - loss: 0.0381 - accuracy: 0.9945 - val_loss: 0.3660 - val_accuracy: 0.8766\n",
            "Epoch 5/10\n",
            "1000/1000 [==============================] - 7s 7ms/step - loss: 0.0136 - accuracy: 0.9992 - val_loss: 0.4095 - val_accuracy: 0.8755\n",
            "Epoch 6/10\n",
            "1000/1000 [==============================] - 5s 5ms/step - loss: 0.0056 - accuracy: 0.9999 - val_loss: 0.4529 - val_accuracy: 0.8756\n",
            "Epoch 7/10\n",
            "1000/1000 [==============================] - 5s 5ms/step - loss: 0.0026 - accuracy: 1.0000 - val_loss: 0.4911 - val_accuracy: 0.8739\n",
            "Epoch 8/10\n",
            "1000/1000 [==============================] - 5s 5ms/step - loss: 0.0013 - accuracy: 1.0000 - val_loss: 0.5298 - val_accuracy: 0.8734\n",
            "Epoch 9/10\n",
            "1000/1000 [==============================] - 4s 4ms/step - loss: 6.7371e-04 - accuracy: 1.0000 - val_loss: 0.5660 - val_accuracy: 0.8725\n",
            "Epoch 10/10\n",
            "1000/1000 [==============================] - 4s 4ms/step - loss: 3.6603e-04 - accuracy: 1.0000 - val_loss: 0.6013 - val_accuracy: 0.8733\n",
            "313/313 [==============================] - 1s 2ms/step - loss: 0.5663 - accuracy: 0.8732\n",
            "Test accuracy for model 2: 0.873199999332428\n",
            "Training model 3...\n",
            "Epoch 1/10\n",
            "1000/1000 [==============================] - 106s 102ms/step - loss: 0.3702 - accuracy: 0.8348 - val_loss: 0.2932 - val_accuracy: 0.8780\n",
            "Epoch 2/10\n",
            "1000/1000 [==============================] - 68s 68ms/step - loss: 0.2469 - accuracy: 0.9030 - val_loss: 0.3084 - val_accuracy: 0.8737\n",
            "Epoch 3/10\n",
            "1000/1000 [==============================] - 62s 62ms/step - loss: 0.2122 - accuracy: 0.9179 - val_loss: 0.3357 - val_accuracy: 0.8668\n",
            "Epoch 4/10\n",
            "1000/1000 [==============================] - 63s 63ms/step - loss: 0.1835 - accuracy: 0.9306 - val_loss: 0.3367 - val_accuracy: 0.8736\n",
            "Epoch 5/10\n",
            "1000/1000 [==============================] - 61s 61ms/step - loss: 0.1572 - accuracy: 0.9417 - val_loss: 0.3441 - val_accuracy: 0.8719\n",
            "Epoch 6/10\n",
            "1000/1000 [==============================] - 61s 61ms/step - loss: 0.1315 - accuracy: 0.9519 - val_loss: 0.4004 - val_accuracy: 0.8716\n",
            "Epoch 7/10\n",
            "1000/1000 [==============================] - 61s 61ms/step - loss: 0.1147 - accuracy: 0.9597 - val_loss: 0.3960 - val_accuracy: 0.8611\n",
            "Epoch 8/10\n",
            "1000/1000 [==============================] - 59s 59ms/step - loss: 0.0995 - accuracy: 0.9653 - val_loss: 0.4663 - val_accuracy: 0.8594\n",
            "Epoch 9/10\n",
            "1000/1000 [==============================] - 60s 60ms/step - loss: 0.0875 - accuracy: 0.9710 - val_loss: 0.5097 - val_accuracy: 0.8566\n",
            "Epoch 10/10\n",
            "1000/1000 [==============================] - 60s 60ms/step - loss: 0.0672 - accuracy: 0.9786 - val_loss: 0.5469 - val_accuracy: 0.8600\n",
            "313/313 [==============================] - 9s 25ms/step - loss: 0.5298 - accuracy: 0.8641\n",
            "Test accuracy for model 3: 0.8640999794006348\n"
          ]
        }
      ]
    },
    {
      "cell_type": "markdown",
      "source": [
        "### Evaluation Metrics"
      ],
      "metadata": {
        "id": "9qvmFGe7kTjo"
      }
    },
    {
      "cell_type": "code",
      "source": [
        "# Predict labels for the test set using the final model1\n",
        "y_pred = model1.predict(X_test)\n",
        "\n",
        "# Convert predicted probabilities to labels\n",
        "y_pred = [1 if prob >= 0.5 else 0 for prob in y_pred]\n",
        "\n",
        "# Generate classification report\n",
        "target_names = ['negative', 'positive']\n",
        "print(classification_report(y_test, y_pred, target_names=target_names))\n"
      ],
      "metadata": {
        "colab": {
          "base_uri": "https://localhost:8080/"
        },
        "id": "ps9W6945g6SH",
        "outputId": "1a747acb-edbc-4cf5-e461-a4324f917722"
      },
      "execution_count": 19,
      "outputs": [
        {
          "output_type": "stream",
          "name": "stdout",
          "text": [
            "313/313 [==============================] - 0s 1ms/step\n",
            "              precision    recall  f1-score   support\n",
            "\n",
            "    negative       0.88      0.87      0.87      4961\n",
            "    positive       0.87      0.88      0.88      5039\n",
            "\n",
            "    accuracy                           0.87     10000\n",
            "   macro avg       0.87      0.87      0.87     10000\n",
            "weighted avg       0.87      0.87      0.87     10000\n",
            "\n"
          ]
        }
      ]
    },
    {
      "cell_type": "code",
      "source": [
        "# Predict labels for the test set using the final model2\n",
        "y_pred = model2.predict(X_test)\n",
        "\n",
        "# Convert predicted probabilities to labels\n",
        "y_pred = [1 if prob >= 0.5 else 0 for prob in y_pred]\n",
        "\n",
        "# Generate classification report\n",
        "target_names = ['negative', 'positive']\n",
        "print(classification_report(y_test, y_pred, target_names=target_names))\n"
      ],
      "metadata": {
        "colab": {
          "base_uri": "https://localhost:8080/"
        },
        "id": "05lEh9X0hFLY",
        "outputId": "8058f17b-12c3-4f51-ea66-9a520b454591"
      },
      "execution_count": 20,
      "outputs": [
        {
          "output_type": "stream",
          "name": "stdout",
          "text": [
            "313/313 [==============================] - 0s 1ms/step\n",
            "              precision    recall  f1-score   support\n",
            "\n",
            "    negative       0.88      0.87      0.87      4961\n",
            "    positive       0.87      0.88      0.87      5039\n",
            "\n",
            "    accuracy                           0.87     10000\n",
            "   macro avg       0.87      0.87      0.87     10000\n",
            "weighted avg       0.87      0.87      0.87     10000\n",
            "\n"
          ]
        }
      ]
    },
    {
      "cell_type": "code",
      "source": [
        "# Predict labels for the test set using the final model3\n",
        "y_pred = model3.predict(X_test)\n",
        "\n",
        "# Convert predicted probabilities to labels\n",
        "y_pred = [1 if prob >= 0.5 else 0 for prob in y_pred]\n",
        "\n",
        "# Generate classification report\n",
        "target_names = ['negative', 'positive']\n",
        "print(classification_report(y_test, y_pred, target_names=target_names))\n"
      ],
      "metadata": {
        "colab": {
          "base_uri": "https://localhost:8080/"
        },
        "id": "VW8cEWgjhJLY",
        "outputId": "88f20dbf-da94-4683-afe5-79c6eeed8f81"
      },
      "execution_count": 21,
      "outputs": [
        {
          "output_type": "stream",
          "name": "stdout",
          "text": [
            "313/313 [==============================] - 8s 23ms/step\n",
            "              precision    recall  f1-score   support\n",
            "\n",
            "    negative       0.87      0.86      0.86      4961\n",
            "    positive       0.86      0.87      0.87      5039\n",
            "\n",
            "    accuracy                           0.86     10000\n",
            "   macro avg       0.86      0.86      0.86     10000\n",
            "weighted avg       0.86      0.86      0.86     10000\n",
            "\n"
          ]
        }
      ]
    },
    {
      "cell_type": "markdown",
      "source": [
        "## 5. Model Evaluation"
      ],
      "metadata": {
        "id": "rdkSSudSVh1t"
      }
    },
    {
      "cell_type": "markdown",
      "source": [
        "Based on the test accuracy results, all three models have similar performance, with test accuracies ranging from 0.873 to 0.874. However, since the **first model** had the highest test accuracy of 0.874, we recommend using it as the final model.\n",
        "\n",
        "The first model, which is a simple neural network with an embedding layer, performed well in terms of accuracy and is also relatively simple and easy to understand compared to the other models. It also has a relatively small number of parameters, which can make it easier to train and faster to run compared to more complex models.\n",
        "\n",
        "One potential weakness of the model is that it may not be able to capture more complex patterns in the data compared to more complex models like the LSTM-based models. Additionally, the model may not perform well on out-of-domain or noisy data."
      ],
      "metadata": {
        "id": "YRoG_PSCeeGW"
      }
    },
    {
      "cell_type": "markdown",
      "source": [
        "## 6. Key Findings and Insights"
      ],
      "metadata": {
        "id": "5cyMQ-FPWK4g"
      }
    },
    {
      "cell_type": "markdown",
      "source": [
        "All three models seem to have similar precision and recall scores for both positive and negative sentiments, indicating that they perform similarly in terms of identifying both types of sentiments. However, Model 1 has the highest overall accuracy, so it may be the best choice for our needs.\n",
        "\n",
        "However, there are some limitations and areas for improvement. First, the model's accuracy could be further improved by increasing the size of the training dataset and tuning the hyperparameters. Second, the model may not generalize well to other datasets or languages, as it was trained on a specific dataset and language. Finally, the model may not perform well on texts that contain sarcasm or irony, as these are difficult for any sentiment analysis model to detect.\n",
        "\n",
        "Overall, our sentiment analysis model can be used for various applications such as analyzing customer feedback, social media monitoring, and predicting the success of a product or service based on the sentiment of the reviews."
      ],
      "metadata": {
        "id": "WamLHgqziowa"
      }
    },
    {
      "cell_type": "markdown",
      "source": [
        "## 7. Conclusion and Next Steps"
      ],
      "metadata": {
        "id": "esTmWSNWWSAV"
      }
    },
    {
      "cell_type": "markdown",
      "source": [
        "In conclusion, we developed and evaluated three different deep learning models to classify sentiment in movie reviews. Our best performing model was a simple neural network with a single hidden layer, which achieved a test accuracy of 87.4%. Additionally, we calculated balanced accuracy, precision, and recall for both positive and negative sentiments, showing that the model had similar performance for both classes.\n",
        "\n",
        "Through our analysis, we identified that the most important features for sentiment classification were the words and phrases used in the reviews, and that our models were able to learn and identify relevant patterns in the data. However, there are some limitations to our approach, such as the lack of consideration for contextual information and the potential bias in the dataset.\n",
        "\n",
        "To improve our models, we could explore the use of more complex architectures, such as recurrent neural networks or transformer-based models, and incorporate external sources of information, such as sentiment lexicons or pre-trained language models. Additionally, we could collect more diverse and representative data to reduce bias and increase the generalizability of our models.\n",
        "\n",
        "Overall, our analysis demonstrates the potential of deep learning models for sentiment analysis and provides insights for further research and development in this area."
      ],
      "metadata": {
        "id": "go4pEVv0kGNc"
      }
    },
    {
      "cell_type": "markdown",
      "source": [
        "Author : Soufleros Konstantinos"
      ],
      "metadata": {
        "id": "HEBrh1PKoZM1"
      }
    }
  ]
}